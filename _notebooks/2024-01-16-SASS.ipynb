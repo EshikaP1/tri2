{
 "cells": [
  {
   "cell_type": "markdown",
   "metadata": {},
   "source": [
    "---\n",
    "toc: true\n",
    "comments: false\n",
    "layout: post\n",
    "title: Student Teach - SASS  \n",
    "description: A lesson on SASS! By Aditi, Eshika, Cindy, Avanthika, Nupur \n",
    "type: ccc\n",
    "courses: { csp: {week: 13} }\n",
    "---"
   ]
  },
  {
   "cell_type": "markdown",
   "metadata": {},
   "source": [
    "# <span style=\"color:cadetblue\">SASS STUDENT TEACH</span> "
   ]
  },
  {
   "cell_type": "markdown",
   "metadata": {},
   "source": [
    "<!--- PUT BASIC CSS HERE!!! FOR NUPUR AND AVANTHIKA ---> "
   ]
  },
  {
   "cell_type": "markdown",
   "metadata": {},
   "source": [
    "<!--- ADVANCED SASS ---> \n",
    "\n",
    "# Advanced SASS\n",
    "SASS stands for Syntactically Awesome Style Sheets. It is compatible with CSS and makes the CSS in a file more readable and efficent. For example, instead of having multiple CSS code cells throughout your webpage, you can have a page full of SASS that codes for the entire website. \n",
    "\n",
    "## Operators \n",
    "Operators are similar to Python syntax and help SASS users perform various operations on different variables. For example...\n"
   ]
  },
  {
   "cell_type": "markdown",
   "metadata": {},
   "source": [
    "| Definition                                          | Operator                                |\n",
    "|-----------------------------------------------------|-----------------------------------------|\n",
    "| == to check if two values are equal                 | ==                                      |\n",
    "| + to add two values together                         | +                                       |\n",
    "| - to subtract two values                              | -                                       |\n",
    "| * to multiply two values                              | *                                       |\n",
    "| / to divide two values                                | /                                       |\n",
    "| % to find the remainder of two values                 | %                                       |\n",
    "| < to check if one value is less than another         | <                                       |\n",
    "| > to check if one value is greater than another      | >                                       |\n",
    "| <= to check if one value is less than or equal to another | <=                                  |\n",
    "| >= to check if one value is greater than or equal to another | >=                              |\n",
    "| and to use logical AND                                | and                                     |\n",
    "| or to use logical OR                                  | or                                      |\n",
    "| not to use logical NOT                                | not                                     |\n"
   ]
  },
  {
   "cell_type": "markdown",
   "metadata": {},
   "source": [
    "## Examples of some operators "
   ]
  },
  {
   "cell_type": "code",
   "execution_count": null,
   "metadata": {
    "vscode": {
     "languageId": "html"
    }
   },
   "outputs": [],
   "source": [
    "// Variables\n",
    "$fruit1: \"watermelon\";\n",
    "$fruit2: \"apple\";\n",
    "$fruit3: \"tomato\";\n",
    "\n",
    "// Testing \n",
    "$testing: $fruit1 == $fruit2;\n",
    "\n",
    "// Print\n",
    "#testing {\n",
    "    content: false;\n",
    "}"
   ]
  },
  {
   "cell_type": "markdown",
   "metadata": {},
   "source": [
    "Intended answer: FALSE"
   ]
  },
  {
   "cell_type": "markdown",
   "metadata": {},
   "source": [
    "## Conditional Statements \n",
    "- Conditional Statements in SASS function similarly to Python and JavaScript.\n",
    "- They enable the execution of different actions based on varying conditions.\n",
    "- Examples include executing specific actions if a condition is true or taking alternative actions if it is false.\n",
    "- The @if directive in SASS allows for the application of different styles based on the truth value of a boolean expression.\n",
    "- SASS also provides the @else directive to define a set of styles if the preceding condition is not met or is false.\n",
    "- Additionally, the @else if directive in SASS allows for implementing alternative conditions if the initial one is not satisfied."
   ]
  },
  {
   "cell_type": "code",
   "execution_count": null,
   "metadata": {
    "vscode": {
     "languageId": "html"
    }
   },
   "outputs": [],
   "source": [
    "$condition1: true;\n",
    "$condition2: false;\n",
    "\n",
    ".element {\n",
    "  @if $condition1 {\n",
    "    color: blue; // Applied if $condition1 is true\n",
    "  } @else if $condition2 {\n",
    "    color: red; // Applied if $condition1 is false and $condition2 is true\n",
    "  } @else {\n",
    "    color: green; // Applied if both $condition1 and $condition2 are false\n",
    "  }\n",
    "}"
   ]
  },
  {
   "cell_type": "markdown",
   "metadata": {},
   "source": [
    "##### In this example:\n",
    "- If $condition1 is true, the text color will be blue.\n",
    "- If $condition1 is false and $condition2 is true, the text color will be red.\n",
    "- If both $condition1 and $condition2 are false, the text color will be green."
   ]
  },
  {
   "cell_type": "markdown",
   "metadata": {},
   "source": [
    "## Loops in SASS\n",
    "- SASS features loops with @for, @while, and @each decorators.\n",
    "- Loops repeat a block of code a specific number of times or until a certain condition is met, similar to other programming languages.\n",
    "- For Loops iterate through a list of values or a range of numbers.\n",
    "- While Loops continue iterating through a block of code until a specific condition is true, like reaching a certain value or meeting another condition.\n",
    "- It's recommended to use @each and @for over while loops in SASS for clarity and faster compilation.\n",
    "- In SASS, lists are groups of values separated by commas or spaces, without special brackets like in JavaScript.\n",
    "- Lists are immutable in SASS, meaning they cannot be changed once created."
   ]
  },
  {
   "cell_type": "code",
   "execution_count": null,
   "metadata": {
    "vscode": {
     "languageId": "html"
    }
   },
   "outputs": [],
   "source": [
    "// Define a list\n",
    "$colors: red, blue, green, yellow;\n",
    "\n",
    "// Use a @each loop to apply styles to each color in the list\n",
    "@each $color in $colors {\n",
    "  .box-#{$color} {\n",
    "    background-color: $color;\n",
    "    width: 100px;\n",
    "    height: 100px;\n",
    "    margin: 10px;\n",
    "  }\n",
    "}\n",
    "\n",
    "// Use a @for loop to generate styles for a range of numbers\n",
    "@for $i from 1 through 5 {\n",
    "  .number-#{$i} {\n",
    "    font-size: 10px * $i;\n",
    "  }\n",
    "}\n",
    "\n",
    "// Use a @while loop to apply styles until a certain condition is met\n",
    "$i: 0;\n",
    "@while $i < 3 {\n",
    "  .while-loop-#{$i} {\n",
    "    border: 1px solid black;\n",
    "    margin: 5px;\n",
    "  }\n",
    "  $i: $i + 1;\n",
    "}"
   ]
  },
  {
   "cell_type": "markdown",
   "metadata": {},
   "source": [
    "##### In this example:\n",
    "- The @each loop iterates through each color in the $colors list, creating a CSS class for each with a different background color.\n",
    "- The @for loop generates styles for different font sizes based on a range of numbers.\n",
    "- The @while loop applies styles until the condition $i < 3 is no longer true, creating CSS classes with borders and margins."
   ]
  },
  {
   "cell_type": "markdown",
   "metadata": {},
   "source": [
    "# Functions in SASS \n",
    "\n",
    "#### What is a function?\n",
    "\n",
    "A function is like a set of instructions that does a specific job. It's a handy way to use the same set of instructions over and over, making things more efficient. We use functions a lot in programming languages like JavaScript to avoid repeating the same code.\n",
    "\n",
    "## SASS Functions\n",
    "- SASS Functions help in defining advanced calculations and transformations for your stylesheet.\n",
    "- They allow complex operations on values, data manipulation, and dynamic content generation.\n",
    "- Both pre-built functions and custom functions (similar to JavaScript) are available in SASS.\n",
    "- SASS functions handle tasks like arithmetic operations, color manipulation, and working with strings.\n",
    "- Functions in SASS are akin to those in programming languages but are used within stylesheets to dynamically generate CSS code."
   ]
  }
 ],
 "metadata": {
  "kernelspec": {
   "display_name": "Python 3",
   "language": "python",
   "name": "python3"
  },
  "language_info": {
   "codemirror_mode": {
    "name": "ipython",
    "version": 3
   },
   "file_extension": ".py",
   "mimetype": "text/x-python",
   "name": "python",
   "nbconvert_exporter": "python",
   "pygments_lexer": "ipython3",
   "version": "3.11.7"
  }
 },
 "nbformat": 4,
 "nbformat_minor": 2
}
