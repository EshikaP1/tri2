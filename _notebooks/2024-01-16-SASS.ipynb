{
 "cells": [
  {
   "cell_type": "markdown",
   "metadata": {},
   "source": [
    "---\n",
    "toc: true\n",
    "comments: false\n",
    "layout: post\n",
    "title: Student Teach - SASS  \n",
    "description: A lesson on SASS! By Aditi, Eshika, Cindy, Avanthika, Nupur \n",
    "type: ccc\n",
    "courses: { csp: {week: 13} }\n",
    "---\n",
    "# <span style=\"color:cadetblue\">SASS STUDENT TEACH</span> "
   ]
  },
  {
   "cell_type": "code",
   "execution_count": null,
   "metadata": {},
   "outputs": [],
   "source": []
  }
 ],
 "metadata": {
  "language_info": {
   "name": "python"
  }
 },
 "nbformat": 4,
 "nbformat_minor": 2
}
