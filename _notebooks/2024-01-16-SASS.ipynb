{
 "cells": [
  {
   "cell_type": "markdown",
   "metadata": {},
   "source": [
    "---\n",
    "toc: true\n",
    "comments: false\n",
    "layout: post\n",
    "title: Student Teach - SASS  \n",
    "description: A lesson on SASS! By Aditi, Eshika, Cindy, Avanthika, Nupur \n",
    "type: ccc\n",
    "courses: { csp: {week: 13} }\n",
    "---"
   ]
  },
  {
   "cell_type": "markdown",
   "metadata": {},
   "source": [
    "# <span style=\"color:cadetblue\">SASS STUDENT TEACH</span> "
   ]
  },
  {
   "cell_type": "markdown",
   "metadata": {},
   "source": [
    "<!--- Nupur ---> \n",
    "# SASS Basics\n",
    "\n",
    "**What is Sass?**  \n",
    "Short for Syntactically Awesome Style Sheets, SASS is a popular CSS pre-processor. SASS code is processed by the program and compiled into CSS code, which can be used to style HTML elements. SASS controls how it appears on the web page. It is compatible with all CSS versions.\n",
    "\n",
    "## SCSS vs CSS\n",
    "\n",
    "**What is CSS?**  \n",
    "CSS is a computer language for laying out and structuring web pages (HTML or XML). For example, it is used to alter the font, color, size, and spacing of your content, split it into multiple columns, or add animations and other decorative features.\n",
    "\n",
    "## What is SCSS?  \n",
    "It is basically more advanced than CSS. SCSS assists a user in adding various extra features to the CSS, such as nesting, variables, etc. These extra features make the process of writing the SCSS language quicker and easier as compared to that of writing the standard language of CSS.\n",
    "\n",
    "## Nesting\n",
    "\n",
    "Nesting helps your code be more organized and easier to read. It is the action of putting one selector inside another selector.\n",
    "\n",
    "## Modular SCSS\n",
    "\n",
    "Using Modular SCSS enables you to divide your SCSS files into several pieces and compile them into a unified CSS file. For this to work, you just need to add an underscore (_) before the filenames.scss so that it gets compiled into its own file. Once you've added the underscore before the file name, you can import it into your file without the underscore, and all the styles will come along. The advantage of using a partial is that it allows you to break down the code for multiple components in larger websites. This way, you can easily organize and make changes to components using these separate files instead of dealing with one massive file.\n",
    "\n",
    "## Benefits of SASS over traditional CSS\n",
    "- **Improved code organization:** SASS offers enhanced code organization through features like nested rules and modular imports, promoting a more structured and readable stylesheet.\n",
    "- **Maintainability:** SASS facilitates easier maintenance with variables, mixins, and functions, reducing code redundancy and making updates and changes more efficient.\n",
    "- **Advanced features:** SASS provides advanced features such as variables, mixins, inheritance, and logic operators. This allows for more dynamic stylesheets than CSS."
   ]
  },
  {
   "cell_type": "markdown",
   "metadata": {},
   "source": [
    "<!--- ADVANCED SASS ---> \n",
    "\n",
    "# Advanced SASS\n",
    "SASS stands for Syntactically Awesome Style Sheets. It is compatible with CSS and makes the CSS in a file more readable and efficent. For example, instead of having multiple CSS code cells throughout your webpage, you can have a page full of SASS that codes for the entire website. \n",
    "\n",
    "## Operators \n",
    "Operators are similar to Python syntax and help SASS users perform various operations on different variables. For example...\n"
   ]
  },
  {
   "cell_type": "markdown",
   "metadata": {},
   "source": [
    "| Definition                                          | Operator                                |\n",
    "|-----------------------------------------------------|-----------------------------------------|\n",
    "| == to check if two values are equal                 | ==                                      |\n",
    "| + to add two values together                         | +                                       |\n",
    "| - to subtract two values                              | -                                       |\n",
    "| * to multiply two values                              | *                                       |\n",
    "| / to divide two values                                | /                                       |\n",
    "| % to find the remainder of two values                 | %                                       |\n",
    "| < to check if one value is less than another         | <                                       |\n",
    "| > to check if one value is greater than another      | >                                       |\n",
    "| <= to check if one value is less than or equal to another | <=                                  |\n",
    "| >= to check if one value is greater than or equal to another | >=                              |\n",
    "| and to use logical AND                                | and                                     |\n",
    "| or to use logical OR                                  | or                                      |\n",
    "| not to use logical NOT                                | not                                     |\n"
   ]
  },
  {
   "cell_type": "markdown",
   "metadata": {},
   "source": [
    "## Examples of some operators "
   ]
  },
  {
   "cell_type": "code",
   "execution_count": null,
   "metadata": {
    "vscode": {
     "languageId": "html"
    }
   },
   "outputs": [],
   "source": [
    "// Variables\n",
    "$fruit1: \"watermelon\";\n",
    "$fruit2: \"apple\";\n",
    "$fruit3: \"tomato\";\n",
    "\n",
    "// Testing \n",
    "$testing: $fruit1 == $fruit2;\n",
    "\n",
    "// Print\n",
    "#testing {\n",
    "    content: false;\n",
    "}"
   ]
  },
  {
   "cell_type": "markdown",
   "metadata": {},
   "source": [
    "Intended answer: FALSE"
   ]
  },
  {
   "cell_type": "markdown",
   "metadata": {},
   "source": [
    "<!--- Aditi ---> \n",
    "## Conditional Statements \n",
    "- Conditional Statements in SASS function similarly to Python and JavaScript.\n",
    "- They enable the execution of different actions based on varying conditions.\n",
    "- Examples include executing specific actions if a condition is true or taking alternative actions if it is false.\n",
    "- The @if directive in SASS allows for the application of different styles based on the truth value of a boolean expression.\n",
    "- SASS also provides the @else directive to define a set of styles if the preceding condition is not met or is false.\n",
    "- Additionally, the @else if directive in SASS allows for implementing alternative conditions if the initial one is not satisfied."
   ]
  },
  {
   "cell_type": "code",
   "execution_count": null,
   "metadata": {
    "vscode": {
     "languageId": "html"
    }
   },
   "outputs": [],
   "source": [
    "$condition1: true;\n",
    "$condition2: false;\n",
    "\n",
    ".element {\n",
    "  @if $condition1 {\n",
    "    color: blue; // Applied if $condition1 is true\n",
    "  } @else if $condition2 {\n",
    "    color: red; // Applied if $condition1 is false and $condition2 is true\n",
    "  } @else {\n",
    "    color: green; // Applied if both $condition1 and $condition2 are false\n",
    "  }\n",
    "}"
   ]
  },
  {
   "cell_type": "markdown",
   "metadata": {},
   "source": [
    "##### In this example:\n",
    "- If $condition1 is true, the text color will be blue.\n",
    "- If $condition1 is false and $condition2 is true, the text color will be red.\n",
    "- If both $condition1 and $condition2 are false, the text color will be green."
   ]
  },
  {
   "cell_type": "markdown",
   "metadata": {},
   "source": [
    "## Loops in SASS\n",
    "- SASS features loops with @for, @while, and @each decorators.\n",
    "- Loops repeat a block of code a specific number of times or until a certain condition is met, similar to other programming languages.\n",
    "- For Loops iterate through a list of values or a range of numbers.\n",
    "- While Loops continue iterating through a block of code until a specific condition is true, like reaching a certain value or meeting another condition.\n",
    "- It's recommended to use @each and @for over while loops in SASS for clarity and faster compilation.\n",
    "- In SASS, lists are groups of values separated by commas or spaces, without special brackets like in JavaScript.\n",
    "- Lists are immutable in SASS, meaning they cannot be changed once created."
   ]
  },
  {
   "cell_type": "code",
   "execution_count": null,
   "metadata": {
    "vscode": {
     "languageId": "html"
    }
   },
   "outputs": [],
   "source": [
    "// Define a list\n",
    "$colors: red, blue, green, yellow;\n",
    "\n",
    "// Use a @each loop to apply styles to each color in the list\n",
    "@each $color in $colors {\n",
    "  .box-#{$color} {\n",
    "    background-color: $color;\n",
    "    width: 100px;\n",
    "    height: 100px;\n",
    "    margin: 10px;\n",
    "  }\n",
    "}\n",
    "\n",
    "// Use a @for loop to generate styles for a range of numbers\n",
    "@for $i from 1 through 5 {\n",
    "  .number-#{$i} {\n",
    "    font-size: 10px * $i;\n",
    "  }\n",
    "}\n",
    "\n",
    "// Use a @while loop to apply styles until a certain condition is met\n",
    "$i: 0;\n",
    "@while $i < 3 {\n",
    "  .while-loop-#{$i} {\n",
    "    border: 1px solid black;\n",
    "    margin: 5px;\n",
    "  }\n",
    "  $i: $i + 1;\n",
    "}"
   ]
  },
  {
   "cell_type": "markdown",
   "metadata": {},
   "source": [
    "##### In this example:\n",
    "- The @each loop iterates through each color in the $colors list, creating a CSS class for each with a different background color.\n",
    "- The @for loop generates styles for different font sizes based on a range of numbers.\n",
    "- The @while loop applies styles until the condition $i < 3 is no longer true, creating CSS classes with borders and margins."
   ]
  },
  {
   "cell_type": "markdown",
   "metadata": {},
   "source": [
    "# Functions in SASS \n",
    "\n",
    "#### What is a function?\n",
    "\n",
    "A function is like a set of instructions that does a specific job. It's a handy way to use the same set of instructions over and over, making things more efficient. We use functions a lot in programming languages like JavaScript to avoid repeating the same code.\n",
    "\n",
    "## SASS Functions\n",
    "- SASS Functions help in defining advanced calculations and transformations for your stylesheet.\n",
    "- They allow complex operations on values, data manipulation, and dynamic content generation.\n",
    "- Both pre-built functions and custom functions (similar to JavaScript) are available in SASS.\n",
    "- SASS functions handle tasks like arithmetic operations, color manipulation, and working with strings.\n",
    "- Functions in SASS are akin to those in programming languages but are used within stylesheets to dynamically generate CSS code.\n",
    "\n"
   ]
  },
  {
   "cell_type": "markdown",
   "metadata": {},
   "source": [
    "<!--- Cindy ---> \n",
    "## Built-in Functions\n",
    "\n",
    "\n",
    "- SASS has many built-in functions that allow users to manipulate strings, variables, colors, etc.\n",
    "\n",
    "\n",
    "## Math Functions\n",
    "\n",
    "\n",
    "- SASS can not only help us complete basic operations like addition and subtraction, but also other, more complex calculations like floor, ceiling, min, max, and absolute value.\n",
    "| Operation example                                          | Intended Answer                                |\n",
    "|-----------------------------------------------------|-----------------------------------------|\n",
    "| .round(1.7);     |     // returns 2    |\n",
    "|.ceil(2.2);       |  // returns 3       |\n",
    "|.floor(4.2);      | // returns 4        |\n",
    "|.abs(-8.5);       |// returns 8.5       |\n",
    "|.min(101, 90, 30);|     // returns 30   |\n",
    "|.max(1, 2, 3);    |    // returns 3     |\n",
    "|.random(1, 35);   |   // returns a random number between 1 and 100|\n",
    "## Color Functions\n",
    "\n",
    "\n",
    "- Similarly to Python and JS, SASS can also help users manipulate color codes\n",
    "- for example...\n",
    "\n",
    "\n",
    "\n",
    "\n",
    "| Operation example                                          | Intended Answer                                |\n",
    "|-----------------------------------------------------|-----------------------------------------|\n",
    "|.lighten(#E6E6FA, 30%);        | // lightens the lavender by 30%|\n",
    "|.darken(#E6E6FA, 40%);         |// darkens the lavender by 40%|\n",
    "|.opacify(#E6E6FA, 0.2);        | // makes the color more opaque by a factor 0.2|\n",
    "|.transparentize(#E6E6FA, 0.1); |  // makes the color more transparent by a factor of 0.1|\n",
    "|.mix(#E6E6FA, #ff0000, 50%);   | // returns an even mix of two colors|\n",
    "\n",
    "\n",
    "## String Functions\n",
    "- Allows users to manipulate strings, similar to concat in JS\n",
    "\n",
    "\n",
    "| Operation example                                          | Intended Answer                                |\n",
    "|-----------------------------------------------------|-----------------------------------------|\n",
    "|.to-upper-case(\"hi\");      |// returns \"HI\"|\n",
    "|.to-lower-case(\"HeLlO\");      |// returns \"hello\"|\n",
    "|.str-index(\"hello world\", \"world\", \"hi\", \"hey\"); |// returns the index of the first occurrence of \"world\"|\n",
    "|.str-insert(\"hello\", \" world\", 3);  |// inserts \" world\" into \"hello\" at position 3, resulting in \"helworldlo\"|\n",
    "\n",
    "## Creating Custom Functions\n",
    "\n",
    "\n",
    "- Users can define functions using \"@function name(arguments){}\"\n",
    "- similar to a return function in JS, it returns a value from a funcitons\n",
    "\n"
   ]
  },
  {
   "cell_type": "code",
   "execution_count": null,
   "metadata": {
    "vscode": {
     "languageId": "html"
    }
   },
   "outputs": [],
   "source": [
    "// Function to calculate the area of a trapezoid\n",
    "@function trapezoid-area($height, $base1, $base2) {\n",
    "  $area: 0.5 * ($base1 + $base2) * $height;\n",
    "  @return $area;\n",
    "}\n",
    "\n",
    "\n",
    "// Function to calculate the perimeter of a rectangle\n",
    "@function rectangle-perimeter($width, $length) {\n",
    "  $perimeter: 2 * ($width + $length);\n",
    "  @return $perimeter;\n",
    "}\n",
    "\n",
    "\n",
    "// Example usage\n",
    "$trapezoidArea: trapezoid-area(5, 8, 12); // Calculate the area of a trapezoid\n",
    "$rectanglePerimeter: rectangle-perimeter(4, 6); // Calculate the perimeter of a rectangle\n",
    "\n",
    "\n",
    "// Output the results\n",
    "@debug \"Trapezoid Area: #{$trapezoidArea}\";\n",
    "@debug \"Rectangle Perimeter: #{$rectanglePerimeter}\";"
   ]
  },
  {
   "cell_type": "markdown",
   "metadata": {},
   "source": [
    "## Extending\n",
    "- This allows users to share style between selectors, using a selector as an argument, and instructing one selector to inherit the style of another\n"
   ]
  },
  {
   "cell_type": "code",
   "execution_count": null,
   "metadata": {
    "vscode": {
     "languageId": "html"
    }
   },
   "outputs": [],
   "source": [
    "// Example of extending\n",
    ".button {\n",
    "  padding: 10px;\n",
    "  background-color: #3498db;\n",
    "  color: #fff;\n",
    "}\n",
    "\n",
    "\n",
    ".submit-button {\n",
    "  @extend .button;\n",
    "  // Additional styles for .submit-button can be added here\n",
    "}"
   ]
  },
  {
   "cell_type": "markdown",
   "metadata": {},
   "source": [
    "## Inheritance\n",
    "- Inheritance involves using a placeholder selector, represented by the percent sign %. Placeholder selectors act as templates for styles and are not compiled into CSS on their own."
   ]
  },
  {
   "cell_type": "code",
   "execution_count": null,
   "metadata": {
    "vscode": {
     "languageId": "html"
    }
   },
   "outputs": [],
   "source": [
    "// Example of inheritance\n",
    "%text-styles {\n",
    "  font-family: 'Arial', sans-serif;\n",
    "  font-size: 14px;\n",
    "  color: #333;\n",
    "}\n",
    "\n",
    "\n",
    ".header {\n",
    "  @extend %text-styles;\n",
    "  // Additional styles for .header can be added here\n",
    "}\n",
    "\n",
    "\n",
    ".paragraph {\n",
    "  @extend %text-styles;\n",
    "  // Additional styles for .paragraph can be added here\n",
    "}"
   ]
  },
  {
   "cell_type": "markdown",
   "metadata": {},
   "source": [
    "- In this example, %text-styles acts as a template for common text styles. Both .header and .paragraph selectors inherit these styles using @extend. If you update %text-styles, the changes will reflect in both the header and paragraph styles."
   ]
  }
 ],
 "metadata": {
  "kernelspec": {
   "display_name": "Python 3",
   "language": "python",
   "name": "python3"
  },
  "language_info": {
   "codemirror_mode": {
    "name": "ipython",
    "version": 3
   },
   "file_extension": ".py",
   "mimetype": "text/x-python",
   "name": "python",
   "nbconvert_exporter": "python",
   "pygments_lexer": "ipython3",
   "version": "3.11.7"
  }
 },
 "nbformat": 4,
 "nbformat_minor": 2
}
