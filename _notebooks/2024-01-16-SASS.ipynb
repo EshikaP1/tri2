{
 "cells": [
  {
   "cell_type": "markdown",
   "metadata": {},
   "source": [
    "---\n",
    "toc: true\n",
    "comments: false\n",
    "layout: post\n",
    "title: Student Teach - SASS  \n",
    "description: A lesson on SASS! By Aditi, Eshika, Cindy, Avanthika, Nupur \n",
    "type: ccc\n",
    "courses: { csp: {week: 13} }\n",
    "---"
   ]
  },
  {
   "cell_type": "markdown",
   "metadata": {},
   "source": [
    "# <span style=\"color:cadetblue\">SASS STUDENT TEACH</span> "
   ]
  },
  {
   "cell_type": "markdown",
   "metadata": {},
   "source": [
    "<!--- PUT BASIC CSS HERE!!! FOR NUPUR AND AVANTHIKA ---> "
   ]
  },
  {
   "cell_type": "markdown",
   "metadata": {},
   "source": [
    "<!--- ADVANCED SASS ---> \n",
    "\n",
    "## Advanced SASS\n",
    "SASS stands for Syntactically Awesome Style Sheets. It is compatible with CSS and makes the CSS in a file more readable and efficent. For example, instead of having multiple CSS code cells throughout your webpage, you can have a page full of SASS that codes for the entire website. \n",
    "\n",
    "## Operators \n",
    "Operators are similar to Python syntax and help SASS users perform various operations on different variables. For example...\n"
   ]
  },
  {
   "cell_type": "markdown",
   "metadata": {},
   "source": [
    "| Definition                                          | Operator                                |\n",
    "|-----------------------------------------------------|-----------------------------------------|\n",
    "| == to check if two values are equal                 | ==                                      |\n",
    "| + to add two values together                         | +                                       |\n",
    "| - to subtract two values                              | -                                       |\n",
    "| * to multiply two values                              | *                                       |\n",
    "| / to divide two values                                | /                                       |\n",
    "| % to find the remainder of two values                 | %                                       |\n",
    "| < to check if one value is less than another         | <                                       |\n",
    "| > to check if one value is greater than another      | >                                       |\n",
    "| <= to check if one value is less than or equal to another | <=                                  |\n",
    "| >= to check if one value is greater than or equal to another | >=                              |\n",
    "| and to use logical AND                                | and                                     |\n",
    "| or to use logical OR                                  | or                                      |\n",
    "| not to use logical NOT                                | not                                     |\n"
   ]
  },
  {
   "cell_type": "markdown",
   "metadata": {},
   "source": [
    "## Examples of some operators "
   ]
  },
  {
   "cell_type": "code",
   "execution_count": null,
   "metadata": {
    "vscode": {
     "languageId": "html"
    }
   },
   "outputs": [],
   "source": [
    "// Variables\n",
    "$fruit1: \"watermelon\";\n",
    "$fruit2: \"apple\";\n",
    "$fruit3: \"tomato\";\n",
    "\n",
    "// Testing \n",
    "$testing: $fruit1 == $fruit2;\n",
    "\n",
    "// Print\n",
    "#testing {\n",
    "    content: false;\n",
    "}"
   ]
  },
  {
   "cell_type": "markdown",
   "metadata": {},
   "source": [
    "Intended answer: FALSE"
   ]
  }
 ],
 "metadata": {
  "kernelspec": {
   "display_name": "Python 3",
   "language": "python",
   "name": "python3"
  },
  "language_info": {
   "codemirror_mode": {
    "name": "ipython",
    "version": 3
   },
   "file_extension": ".py",
   "mimetype": "text/x-python",
   "name": "python",
   "nbconvert_exporter": "python",
   "pygments_lexer": "ipython3",
   "version": "3.11.7"
  }
 },
 "nbformat": 4,
 "nbformat_minor": 2
}
